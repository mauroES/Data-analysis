{
  "nbformat": 4,
  "nbformat_minor": 0,
  "metadata": {
    "colab": {
      "name": "Desafio_Titanic - InstaCart .ipynb",
      "provenance": [],
      "authorship_tag": "ABX9TyPotH6HG0oROYRN3xiJnvhT",
      "include_colab_link": true
    },
    "kernelspec": {
      "name": "python3",
      "display_name": "Python 3"
    },
    "language_info": {
      "name": "python"
    }
  },
  "cells": [
    {
      "cell_type": "markdown",
      "metadata": {
        "id": "view-in-github",
        "colab_type": "text"
      },
      "source": [
        "<a href=\"https://colab.research.google.com/github/mauroES/DataScience/blob/master/Desafio_Titanic_InstaCart_.ipynb\" target=\"_parent\"><img src=\"https://colab.research.google.com/assets/colab-badge.svg\" alt=\"Open In Colab\"/></a>"
      ]
    },
    {
      "cell_type": "markdown",
      "metadata": {
        "id": "WgP1h8HYlA6C"
      },
      "source": [
        "# **Desafio Titanic / Instacart**\n",
        "\n",
        "\n",
        "---\n",
        "\n",
        "**Descrição**\n",
        "\n",
        "---\n",
        "\n",
        "\n",
        "Este desafio propõe o uso dos datasets Titanic / Instacart a realização das tarefas que são descritas a seguir.\n",
        "\n",
        "\n",
        "\n",
        "\n",
        "Tarefas\n",
        "\n",
        "* Implementação do algoritmo de ordenação BubbleSort;\n",
        "* Questões abertas sobre Ciência de dados / Engenahria de dados;\n",
        "* Analise exploratória nos datasets Titanic e Instacart;\n",
        "* Algortimo para predição de sobreviventes no dataset Titanic. \n",
        "---\n",
        "\n",
        "**Recomendações**\n",
        "\n",
        "---\n",
        "\n",
        "\n",
        "`1. Acesso aos Dados`\n",
        "\n",
        "* Titanic   - https://www.kaggle.com/c/titanic/data\n",
        "* Instacart - https://www.kaggle.com/c/instacart-market-basket-analysis/data\n",
        "\n",
        "`2. Linguagens para maninulação dos dados`\n",
        "  * Python\n",
        "  * R\n",
        "\n",
        "`2. Para visualizações extras`\n",
        "* Power BI / Tableu\n",
        "\n",
        "\n",
        "\n",
        "\n",
        "\n",
        "\n"
      ]
    },
    {
      "cell_type": "markdown",
      "metadata": {
        "id": "7wQSDNbCrFL3"
      },
      "source": [
        "# **Importação / Instalação bibliotecas**"
      ]
    },
    {
      "cell_type": "code",
      "metadata": {
        "id": "W8KuljQId_X7"
      },
      "source": [
        "#!pip install scikit-plot"
      ],
      "execution_count": null,
      "outputs": []
    },
    {
      "cell_type": "code",
      "metadata": {
        "id": "LQtCPKFDp__o"
      },
      "source": [
        "#Importações\n",
        "import pandas as pd\n",
        "import seaborn as sns\n",
        "import numpy as np\n",
        "import matplotlib.pyplot as plt\n",
        "\n",
        "# Preparação\n",
        "from sklearn.preprocessing import LabelEncoder\n",
        "from sklearn.preprocessing import StandardScaler\n",
        "\n",
        "#modelos\n",
        "from sklearn.tree import DecisionTreeClassifier\n",
        "from sklearn.linear_model import LogisticRegression\n",
        "from sklearn.neighbors import KNeighborsClassifier\n",
        "from sklearn.ensemble import RandomForestClassifier\n",
        "\n",
        "#resultados\n",
        "from sklearn.model_selection import train_test_split\n",
        "from sklearn.model_selection import cross_val_score\n",
        "from sklearn.metrics import accuracy_score, confusion_matrix, classification_report\n",
        "from yellowbrick.classifier import ConfusionMatrix\n",
        "from sklearn.model_selection import KFold, cross_val_score\n",
        "import scikitplot as skplt"
      ],
      "execution_count": null,
      "outputs": []
    },
    {
      "cell_type": "code",
      "metadata": {
        "id": "urCHusGDOOPB"
      },
      "source": [
        "df_order_products_train = pd.read_csv(\"order_products__train.csv\",sep=\",\")\n",
        "df_products = pd.read_csv(\"products.csv\",sep=\",\")\n",
        "\n",
        "dfTitanic = pd.read_csv(\"train.csv\")"
      ],
      "execution_count": null,
      "outputs": []
    },
    {
      "cell_type": "markdown",
      "metadata": {
        "id": "U6ReDuggrYxu"
      },
      "source": [
        "# **Questões abertas sobre Ciência de dados / Engenahria de dados**"
      ]
    },
    {
      "cell_type": "code",
      "metadata": {
        "id": "PCWK7QcUke6q"
      },
      "source": [
        "lista = [5,9,54,12,7,6,1]\n",
        "\n",
        "def ordeBubble(lista):\n",
        "  index =len(lista)-1\n",
        "  sorted = False\n",
        "  while not sorted:\n",
        "    sorted = True\n",
        "    for i in range(0,index):\n",
        "      if lista[i]>lista[i+1]:\n",
        "        sorted = False\n",
        "        lista[i],lista[i+1] = lista[i+1],lista[i]\n",
        "  return lista\n",
        "print(\"A lista ordenada:\",ordeBubble(lista))"
      ],
      "execution_count": null,
      "outputs": []
    },
    {
      "cell_type": "markdown",
      "metadata": {
        "id": "OVYB9fkYrf3M"
      },
      "source": [
        "**Qual a diferença entre aprendizagem supervisionada e não superviosionada?**\n",
        "\n",
        "`R: Aprendizado supervisionado: Os modelos tentam aprender (treinando) com um conjunto de dados de entrada, em seguida reconhece e categoriza corretamente padrões baseados em uma nova entrada. \n",
        "Aprendizagem não supervisionada: Os modelos não recebem rótulos na entrada, apenas o conjunto de dados, de forma que venha a identificar qualquer estrutura de padrão dentro dela. `"
      ]
    },
    {
      "cell_type": "markdown",
      "metadata": {
        "id": "fqioF7_isFpb"
      },
      "source": [
        "**O que você entende por validação cruzada?**\n",
        "\n",
        "`R: Técnica comumente usada para avaliar a capacidade de generalização de um modelo, a partir de um conjunto de dados. Um modelo deve ser avaliado em amostras que não foram usadas para construí-lo ou ajusta-lo, de modo que forneçam um senso imparcial de eficácia.  A validação pode ser usada para comparar os desempenhos de diferentes procedimentos de modelagem preditiva`"
      ]
    },
    {
      "cell_type": "markdown",
      "metadata": {
        "id": "Y85QCO38sGH8"
      },
      "source": [
        "**O que é uma regressão linear?**\n",
        "\n",
        "`R:O algoritmo de Regressão linear tem como objetivo explorar o relacionamento existente entre duas ou mais variáveis. Para isso, utiliza os pontos de dados para encontrar a melhor linha de ajuste para modelar essa relação.`"
      ]
    },
    {
      "cell_type": "markdown",
      "metadata": {
        "id": "eb1vdgiAsGPC"
      },
      "source": [
        "**O que são outliers? Apresente, ao meno uma forma de lidar.**\n",
        "\n",
        "`R: Os outliers são dados que se diferenciam extremadamente de todos os outros (são pontos fora da curva normal) e quando um modelo se depara com esse tipo de situação pode causar anomalias nos resultados obtidos.\n",
        "Excluir valor: Caso o dataset seja amplo o suficiente é possível simplesmente excluir o valor anômalo sem causar grandes prejuízos à análise de dados.\n",
        "Tratar separadamente: Se a quantidade de outliers for relativamente grande, uma opção é realizar uma análise separada somente com esses dados. É possível separá-los em dois grupos e criar modelos específicos para analisá-los.\n",
        "Métodos de clusterização: Esses algoritmos encontram o comportamento das observações mais próximas ao outliers e fazem uma interferência de qual seria o melhor valor aproximado (por exemplo a média).`"
      ]
    },
    {
      "cell_type": "markdown",
      "metadata": {
        "id": "UxW_HDbCsfGw"
      },
      "source": [
        "**Descreva o que é uma \"ETL\"**\n",
        "\n",
        "`R: O processo de ETL (extrair, transformar e carregar) é uma forma que as organizações combinam (extraindo e tratando) os dados de vários sistemas em um único banco de dados, repositório de dados ou data lake.`"
      ]
    },
    {
      "cell_type": "markdown",
      "metadata": {
        "id": "cnJ7uZVIshjt"
      },
      "source": [
        "**Explique as diferenças entre um banco de dados relacional e um não relaciona. Descreva exemplos de uso real.**\n",
        "\n",
        "`R: \n",
        "Banco relacional: São modelos baseados no relacionamento dos dados, onde armazenam e fornecem acessos a pontos de dados que estão relacionados entre si.\n",
        "Banco de dados não relacional: é qualquer banco de dados que não segue o modelo relacional de um SGBDR. Existem alguns tipos de banco de dados não relacionais como um documentos objetos JSON. \n",
        "Ex1: Duas tabelas de bancos dados mapeadas e relacionadas entre si.\n",
        "Ex2: Arquivo Json que armazena os dados da covid19.`\n"
      ]
    },
    {
      "cell_type": "markdown",
      "metadata": {
        "id": "8weDsxVns7Fh"
      },
      "source": [
        "**O que você entende por BoxPlot?**\n",
        "\n",
        "`R: Boxplot é uma forma de visualização comumente usada na análise de dados. Ao analisar um boxplot é possível ter as interpretações dos dados como: centro dos dados (a média ou mediana), a amplitude dos dados (máximo - mínimo), a simetria ou assimetria do conjunto de dados e a presença de outliers.`"
      ]
    },
    {
      "cell_type": "markdown",
      "metadata": {
        "id": "9ZeZidmus7L4"
      },
      "source": [
        "**O que você consegue explicar da seguinte figura?**\n",
        "\n",
        "![fig1.png](data:image/png;base64,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)\n",
        "\n",
        "`R: Na primeira linha tem três histogramas exibindo a frequência de dados de uma variável. Na parte de baixo temos um gráfico de dispersão que aparentemente mostra a relação entre todas as variáveis do dataset.`"
      ]
    },
    {
      "cell_type": "markdown",
      "metadata": {
        "id": "9lN_YfT5u-m1"
      },
      "source": [
        "# **Analise exploratória nos dados App Instacart**\n",
        "\n",
        "* **Descrição App Instacart**\n",
        "\n",
        "\n",
        "> Instacart, um aplicativo de pedido e entrega de supermercado, Atualmente,  usam dados transacionais para desenvolver modelos que preveem quais produtos um usuário comprará novamente, tentará pela primeira vez ou adicionará ao carrinho durante uma sessão.\n",
        "\n",
        "* **Dicionario** - https://gist.github.com/jeremystan/c3b39d947d9b88b3ccff3147dbcf6c6b\n"
      ]
    },
    {
      "cell_type": "code",
      "metadata": {
        "id": "CXeYn9tMo-4T"
      },
      "source": [
        "dfInstaCart = pd.merge(df_order_products_train, df_products, on='product_id', how='left')\n",
        "vNulos = dfInstaCart.fillna(value=0).count()\n",
        "vNulos"
      ],
      "execution_count": null,
      "outputs": []
    },
    {
      "cell_type": "code",
      "metadata": {
        "id": "UZ-dj9fKPp27"
      },
      "source": [
        "# Os 10 produtos mais vendidos\n",
        "top10MaisVendido = dfInstaCart[['product_id','product_name']].value_counts().reset_index().head(10)\n",
        "top10MaisVendido.columns = ['Codigo','Produto', 'Total']\n",
        "top10MaisVendido"
      ],
      "execution_count": null,
      "outputs": []
    },
    {
      "cell_type": "code",
      "metadata": {
        "id": "dylTn0F2BAyS"
      },
      "source": [
        "# Média de produto por pedido\n",
        "# fórmula de cálculo: (Total de itens vendidos) dividido por (Total de vendas/tickets)\n",
        "agrupado = dfInstaCart[['product_id','order_id']].groupby('order_id').count().reset_index()\n",
        "totalPedido  = agrupado['order_id'].count()\n",
        "totalProduto = agrupado['product_id'].sum()\n",
        "media = totalProduto / totalPedido\n",
        "print(\"\\nTotal Pedido : {}\".format(totalPedido))\n",
        "print(\"Total Produto : {}\".format(totalProduto))\n",
        "print(\"Quantidade média de produto por pedido : {0:0.0f}\".format(media))"
      ],
      "execution_count": null,
      "outputs": []
    },
    {
      "cell_type": "code",
      "metadata": {
        "id": "2e2HGVtwbloZ"
      },
      "source": [
        "''' Os 10 produtos mais vendidos em SQL, considerando as seguintes tabelas:\n",
        "        products = product_id, product_name, aisle_id, department_id \n",
        "        order_products = order_id, product_id, add_to_cart_order, reordered\n",
        "'''\n",
        "#select o.product_id,p.product_name,count(o.product_id) as Total \n",
        "#from  order_products o,\n",
        "#      products p\n",
        "#where o.product_id  = p.product_id\n",
        "#group by product_id  ORDER BY total DESC LIMIT 10;"
      ],
      "execution_count": null,
      "outputs": []
    },
    {
      "cell_type": "markdown",
      "metadata": {
        "id": "8GSpLT6VAMGB"
      },
      "source": [
        "# **Analise exploratória nos datasets Titanic**\n",
        "\n",
        "\n"
      ]
    },
    {
      "cell_type": "code",
      "metadata": {
        "id": "Ki2v25bbuJCx"
      },
      "source": [
        "dfTitanic.head()"
      ],
      "execution_count": null,
      "outputs": []
    },
    {
      "cell_type": "code",
      "metadata": {
        "id": "uyNk_ylpuNHe"
      },
      "source": [
        "dfTitanic.isnull().sum()"
      ],
      "execution_count": null,
      "outputs": []
    },
    {
      "cell_type": "code",
      "metadata": {
        "id": "nwOEyrgCxzDd"
      },
      "source": [
        "sns.countplot('Survived', data= dfTitanic)\n",
        "plt.show()"
      ],
      "execution_count": null,
      "outputs": []
    },
    {
      "cell_type": "code",
      "metadata": {
        "id": "tg-bpanDtTLy"
      },
      "source": [
        "# histograma não sobrevivente\n",
        "plt.title('O histograma das faixas etárias das pessoas que não sobreviveram')\n",
        "plt.hist(dfTitanic.loc[dfTitanic.Survived == 0, 'Age'], np.arange(0,100,10))\n",
        "plt.xticks(np.arange(0,100,10))"
      ],
      "execution_count": null,
      "outputs": []
    },
    {
      "cell_type": "code",
      "metadata": {
        "id": "v7s6rVJZf6g2"
      },
      "source": [
        "# histograma sobrevivente\n",
        "plt.title('O histograma das faixas etárias das pessoas que não sobreviveram')\n",
        "plt.hist(dfTitanic.loc[dfTitanic.Survived == 1, 'Age'], np.arange(0,100,10))\n",
        "plt.xticks(np.arange(0,100,10))"
      ],
      "execution_count": null,
      "outputs": []
    },
    {
      "cell_type": "code",
      "metadata": {
        "id": "V48RS6TRgpPJ"
      },
      "source": [
        "sns.set_theme(style=\"ticks\", palette=\"pastel\")\n",
        "sns.boxplot(data = dfTitanic['Age'])\n",
        "sns.despine(offset=10, trim=True)"
      ],
      "execution_count": null,
      "outputs": []
    },
    {
      "cell_type": "code",
      "metadata": {
        "id": "8UyGB-3XemzH"
      },
      "source": [
        "sns.countplot(x = dfTitanic['Sex']);"
      ],
      "execution_count": null,
      "outputs": []
    },
    {
      "cell_type": "code",
      "metadata": {
        "id": "n78Ah9gLfXyL"
      },
      "source": [
        "plt.hist(x = dfTitanic['Age']);"
      ],
      "execution_count": null,
      "outputs": []
    },
    {
      "cell_type": "markdown",
      "metadata": {
        "id": "dW5RvRZ1vgw0"
      },
      "source": [
        "# **Algortimo para predição de sobreviventes do Titanic**"
      ]
    },
    {
      "cell_type": "code",
      "metadata": {
        "id": "AoaCWDc7ywUC"
      },
      "source": [
        "# lendo o dataset e verificando como esta a distribuição da variavel alvo\n",
        "print(dfTitanic.Survived.value_counts())\n",
        "print(\"\\nOs sobreviventes :{:.4f} % do dataset.\\n\".format((dfTitanic[dfTitanic.Survived == 1].shape[0] / dfTitanic.shape[0]) * 100))\n",
        "sns.countplot('Survived', data = dfTitanic);"
      ],
      "execution_count": null,
      "outputs": []
    },
    {
      "cell_type": "code",
      "metadata": {
        "id": "0YvBexif7MWl"
      },
      "source": [
        "dfTitanic = dfTitanic[['Survived','Pclass','Sex','Age']] # Pegando apenas as variaveis desejadas\n",
        "dfTitanic['Age']= dfTitanic['Age'].fillna(dfTitanic['Age'].median())# nulos pela media\n",
        "label_encoder_Sex = LabelEncoder()\n",
        "teste = label_encoder_Sex.fit_transform(dfTitanic['Sex'])\n",
        "dfTitanic['Sex'] = label_encoder_Sex.fit_transform(dfTitanic['Sex'] ) # convertendo a variavel sexo\n",
        "dfTitanic.head()"
      ],
      "execution_count": null,
      "outputs": []
    },
    {
      "cell_type": "code",
      "metadata": {
        "id": "BmwFWCqozGYK"
      },
      "source": [
        "# criando a divisão da base\n",
        "previsores = dfTitanic.iloc[:, 1:4].values \n",
        "classe = dfTitanic.iloc[:, 0].values\n",
        "\n",
        "# Normalizando previsores\n",
        "scaler = StandardScaler()\n",
        "previsores = scaler.fit_transform(previsores) \n",
        "\n",
        "# executando algoritmo de arvore de decisão de forma individual\n",
        "X_titanic_treinamento,X_titanic_teste,y_titanic_treinamento,y_titanic_teste =  train_test_split(previsores,classe,test_size=0.25,random_state=0)\n",
        "arvore = DecisionTreeClassifier(criterion='entropy', random_state = 0)\n",
        "arvore.fit(X_titanic_treinamento, y_titanic_treinamento)\n",
        "previsoes = arvore.predict(X_titanic_teste)\n",
        "\n",
        "#visualizando as metricas\n",
        "print('\\n',classification_report(y_titanic_teste, previsoes))\n",
        "print(skplt.metrics.plot_confusion_matrix(y_titanic_teste, previsoes))"
      ],
      "execution_count": null,
      "outputs": []
    },
    {
      "cell_type": "code",
      "metadata": {
        "id": "_Js8hi2XdiS8"
      },
      "source": [
        "''' Usando validação cruzada e mais modelos de previsão'''\n",
        "\n",
        "result_arvore = []\n",
        "result_random_forest = [] \n",
        "result_knn = []\n",
        "result_logistica = []\n",
        "\n",
        "for i in range(30):\n",
        "  kfold = KFold(n_splits=10, shuffle=True, random_state= i)\n",
        "\n",
        "  arvore = DecisionTreeClassifier(criterion='entropy', min_samples_leaf=1, min_samples_split=5, splitter='best')\n",
        "  scores = cross_val_score(arvore,previsores, classe, cv = kfold)\n",
        "  result_arvore.append(scores.mean())\n",
        "  \n",
        "  random_forest = RandomForestClassifier(criterion = 'entropy', min_samples_leaf = 1, min_samples_split=5, n_estimators = 10)\n",
        "  scores = cross_val_score(random_forest,previsores, classe, cv = kfold)\n",
        "  result_random_forest.append(scores.mean())\n",
        "\n",
        "  knn = KNeighborsClassifier()\n",
        "  scores = cross_val_score(knn,previsores, classe, cv = kfold)\n",
        "  result_knn.append(scores.mean())\n",
        "\n",
        "  logistica = LogisticRegression(C = 1.0, solver = 'lbfgs', tol = 0.0001)\n",
        "  scores = cross_val_score(logistica,previsores, classe, cv = kfold)\n",
        "  result_logistica.append(scores.mean())\n",
        "\n",
        "resultFinal = pd.DataFrame({'Arvore': result_arvore, 'Random forest': result_random_forest,\n",
        "                           'KNN': result_knn, 'Logistica': result_logistica})\n",
        "res = resultFinal.mean().head()\n",
        "res.sort_values(ascending=False)"
      ],
      "execution_count": null,
      "outputs": []
    }
  ]
}