{
  "nbformat": 4,
  "nbformat_minor": 0,
  "metadata": {
    "colab": {
      "name": "DesafioProuni.ipynb",
      "provenance": [],
      "collapsed_sections": [
        "YJXeYX5fjNCI"
      ],
      "authorship_tag": "ABX9TyNzola2yi0cWqReS+p4Lua/",
      "include_colab_link": true
    },
    "kernelspec": {
      "name": "python3",
      "display_name": "Python 3"
    },
    "language_info": {
      "name": "python"
    }
  },
  "cells": [
    {
      "cell_type": "markdown",
      "metadata": {
        "id": "view-in-github",
        "colab_type": "text"
      },
      "source": [
        "<a href=\"https://colab.research.google.com/github/mauroES/DataScience/blob/master/DesafioProuni.ipynb\" target=\"_parent\"><img src=\"https://colab.research.google.com/assets/colab-badge.svg\" alt=\"Open In Colab\"/></a>"
      ]
    },
    {
      "cell_type": "markdown",
      "metadata": {
        "id": "KWl_CmzEkJq5"
      },
      "source": [
        "# **Descrição Desafio 01**\n",
        "\n",
        "Realizar a extração dos dados (http://dados.gov.br/dataset/mec-prouni) referente ao Programa Universidade Para Todos – Prouni PDA/MEC nos anos 2016 e 2018.\n",
        "\n",
        "**Tarefas:**\n",
        "\n",
        "1. Modelar um banco de dados dimensional que atenda às necessidades do cliente, \n",
        "utilizando os arquivos CSV’s disponíveis. \n",
        "2. capturar os dados disponíveis nos arquivos CSV’s e popular o banco de dados criado na etapa 1 (preferencialmente de forma automatizada - processo de ETL).\n",
        "3. Definir métricas que possam ser acompanhadas pelo cliente\n",
        "4. Disponibilizar um Painel / Dashboard desenvolvido em Power BI, de forma que tenha um layout amigável, com fácil compreensão e com possibilidade de realizar filtros que facilite o agrupamento de informações.\n",
        "\n"
      ]
    },
    {
      "cell_type": "markdown",
      "metadata": {
        "id": "YJXeYX5fjNCI"
      },
      "source": [
        "## **Inportação e Instalação das Libs**"
      ]
    },
    {
      "cell_type": "code",
      "metadata": {
        "id": "kqFOcBCM-ijv"
      },
      "source": [
        "#!pip install mysql-connector-python"
      ],
      "execution_count": null,
      "outputs": []
    },
    {
      "cell_type": "code",
      "metadata": {
        "id": "r_FwffZWBSEs"
      },
      "source": [
        "import pandas as pd\n",
        "import mysql.connector as msql\n",
        "from mysql.connector import Error\n",
        "\n",
        "import seaborn as sns"
      ],
      "execution_count": null,
      "outputs": []
    },
    {
      "cell_type": "markdown",
      "metadata": {
        "id": "63lKk1F8jazA"
      },
      "source": [
        "## **Extração e Tratamento dos dados**\n",
        "\n",
        "Foram coletados os dois arquivos no endereço http://dados.gov.br/dataset/mec-prouni, e em seguida foram concatenados.\n",
        "Foi realizada também uma analise exploratória inicial para tratar possiveis insconsistências nos dados.\n",
        "\n",
        "**Campos que tiveram que eliminar registros vazios:**\n",
        "\n",
        "* TIPO_BOLSA\n",
        "* NOME_CURSO_BOLSA\n",
        "* NOME_TURNO_CURSO_BOLSA\n",
        "* DT_NASCIMENTO_BENEFICIARIO\n",
        "\n",
        "**Preenchimento incorreto:**\n",
        "\n",
        "* MODALIDADE_ENSINO_BOLSA\n",
        "* SEXO_BENEFICIARIO_BOLSA\n",
        "* BENEFICIARIO_DEFICIENTE_FISICO\n",
        "* REGIAO_BENEFICIARIO_BOLSA\n"
      ]
    },
    {
      "cell_type": "code",
      "metadata": {
        "id": "9sTXsDfvKgt1"
      },
      "source": [
        "datasetUrl2016 = \"http://informacao.mec.gov.br/bilibs/PDA/PROUNI/PDA_PROUNI_2016_CSV.csv\"\n",
        "datasetUrl2018 = \"http://dadosabertos.mec.gov.br/images/conteudo/prouni/2018/pda-prouni-2018.csv\"\n",
        "base2016 = pd.read_csv(datasetUrl2016,sep=\";\",encoding = \"ISO-8859-1\", engine='python')\n",
        "base2018 = pd.read_csv(datasetUrl2018,sep=\";\",encoding = \"ISO-8859-1\", engine='python')\n",
        "dsExtraido = pd.concat([base2016, base2018])\n",
        "dsExtraido.to_csv('DS_EXTRAIDO.csv',sep=';')"
      ],
      "execution_count": null,
      "outputs": []
    },
    {
      "cell_type": "code",
      "metadata": {
        "colab": {
          "base_uri": "https://localhost:8080/"
        },
        "id": "GvuKBLczg9Vy",
        "outputId": "38e9c850-038a-44f5-887e-a29b129aed96"
      },
      "source": [
        "dsFinal = pd.read_csv('/content/PROUNI_FINAL.csv',sep=\",\",encoding = \"ISO-8859-1\", engine='python')\n",
        "nulos = dsFinal.isnull().sum()\n",
        "nulos"
      ],
      "execution_count": null,
      "outputs": [
        {
          "output_type": "execute_result",
          "data": {
            "text/plain": [
              "ANO_CONCESSAO_BOLSA               0\n",
              "CODIGO_EMEC_IES_BOLSA             0\n",
              "NOME_IES_BOLSA                    0\n",
              "TIPO_BOLSA                        0\n",
              "MODALIDADE_ENSINO_BOLSA           0\n",
              "NOME_CURSO_BOLSA                  0\n",
              "NOME_TURNO_CURSO_BOLSA            0\n",
              "CPF_BENEFICIARIO_BOLSA            0\n",
              "SEXO_BENEFICIARIO_BOLSA           0\n",
              "RACA_BENEFICIARIO_BOLSA           0\n",
              "DT_NASCIMENTO_BENEFICIARIO        0\n",
              "BENEFICIARIO_DEFICIENTE_FISICO    0\n",
              "REGIAO_BENEFICIARIO_BOLSA         0\n",
              "SIGLA_UF_BENEFICIARIO_BOLSA       0\n",
              "MUNICIPIO_BENEFICIARIO_BOLSA      0\n",
              "dtype: int64"
            ]
          },
          "metadata": {},
          "execution_count": 130
        }
      ]
    },
    {
      "cell_type": "code",
      "metadata": {
        "colab": {
          "base_uri": "https://localhost:8080/",
          "height": 601
        },
        "id": "6yg2ILVJsZkM",
        "outputId": "3ba09706-11cf-4465-c18a-75e91f416c29"
      },
      "source": [
        "#Os campos devem sergir esse padrão http://informacao.mec.gov.br/bilibs/PDA/PROUNI/Dicionario_ProUni.pdf\n",
        "#grafico de barras verificando algumas variavéis\n",
        "#['MODALIDADE_ENSINO_BOLSA','SEXO_BENEFICIARIO_BOLSA','BENEFICIARIO_DEFICIENTE_FISICO','REGIAO_BENEFICIARIO_BOLSA']\n",
        "\n",
        "sns.set_style('darkgrid')\n",
        "fig, ax = plt.subplots()\n",
        "fig.set_size_inches(11.7, 8.27)\n",
        "sns.countplot('RACA_BENEFICIARIO_BOLSA', data = dsFinal);"
      ],
      "execution_count": null,
      "outputs": [
        {
          "output_type": "stream",
          "text": [
            "/usr/local/lib/python3.7/dist-packages/seaborn/_decorators.py:43: FutureWarning:\n",
            "\n",
            "Pass the following variable as a keyword arg: x. From version 0.12, the only valid positional argument will be `data`, and passing other arguments without an explicit keyword will result in an error or misinterpretation.\n",
            "\n"
          ],
          "name": "stderr"
        },
        {
          "output_type": "display_data",
          "data": {
            "image/png": "[encoded data removed]",
            "text/plain": [
              "<Figure size 842.4x595.44 with 1 Axes>"
            ]
          },
          "metadata": {}
        }
      ]
    },
    {
      "cell_type": "markdown",
      "metadata": {
        "id": "QZK_7EPngQUM"
      },
      "source": [
        "## **Inserção no Banco de dados**\n",
        "Nesta seção foram realizadas a conexão com o banco de dado e a inserção dos dados.\n",
        "\n",
        "* Banco de dados: dbDesafio\n",
        "* Tabela: bolsistas\n",
        "* Inserção dos dados na tabela bolsista usando o csv PROUNI_FINAL\n",
        "\n",
        "\n"
      ]
    },
    {
      "cell_type": "code",
      "metadata": {
        "id": "x1MtrNvrgV8z"
      },
      "source": [
        "path=\"/content/PROUNI_FINAL.csv\"\n",
        "dados = pd.read_csv(path,sep=\",\",encoding = \"ISO-8859-1\", engine='python')\n",
        "try:\n",
        "    conn = msql.connect(host='localhost', database='dbDesafio', user='root', password='#######')\n",
        "    if conn.is_connected():\n",
        "        cursor = conn.cursor()\n",
        "        cursor.execute(\"select database();\")\n",
        "        record = cursor.fetchone()\n",
        "        print(\"Conectado: \", record)\n",
        "        cursor.execute('DROP TABLE IF EXISTS bolsistas;')\n",
        "        cursor.execute(\"CREATE TABLE bolsistas (COD_BOLSISTA INT AUTO_INCREMENT, ANO_CONCESSAO VARCHAR(4) NOT NULL, CODIGO_EMEC_IES INT NOT NULL, NOME_IES VARCHAR(100) NOT NULL, TIPO VARCHAR(30) NOT NULL, MODALIDADE_ENSINO VARCHAR(40) NOT NULL, CURSO VARCHAR(90) NOT NULL, TURNO VARCHAR(18) NOT NULL, CPF VARCHAR(11), SEXO VARCHAR(10) NOT NULL, RACA VARCHAR(14) NOT NULL, DT_NASCIMENTO VARCHAR(10), DEFICIENTE_FISICO VARCHAR(4) NOT NULL, REGIAO VARCHAR(13) NOT NULL, SIGLA_UF VARCHAR(2) NOT NULL, MUNICIPIO VARCHAR(40) NOT NULL, PRIMARY KEY(COD_BOLSISTA))\")\n",
        "        total = 0\n",
        "        for i,row in dados.iterrows():\n",
        "            sql = \"INSERT INTO dbDesafio.bolsistas VALUES (null,%s,%s,%s,%s,%s,%s,%s,%s,%s,%s,%s,%s,%s,%s,%s)\"\n",
        "            cursor.execute(sql, tuple(row))\n",
        "            conn.commit()\n",
        "            total =total + 1\n",
        "    print(\"Total de registro no arquivo CSV: \",len(dados))\n",
        "    print(\"Total de registro inseridos no banco dbDesafio:\",total)\n",
        "except Error as e:\n",
        "    print(\"Erro ao conectar\", e)"
      ],
      "execution_count": null,
      "outputs": []
    }
  ]
}